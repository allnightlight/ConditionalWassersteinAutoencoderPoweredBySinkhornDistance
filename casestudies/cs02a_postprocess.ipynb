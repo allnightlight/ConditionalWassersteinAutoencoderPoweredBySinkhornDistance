{
 "cells": [
  {
   "cell_type": "code",
   "execution_count": null,
   "metadata": {},
   "outputs": [],
   "source": [
    "# To mount\n",
    "from google.colab import drive\n",
    "drive.mount('/content/drive')\n",
    "\n",
    "# # To initialize the work environment\n",
    "# %cd /content/drive/My Drive/\n",
    "# !git clone https://github.com/allnightlight/ConditionalWassersteinAutoencoderPoweredBySinkhornDistance/casestudies -b casestudies\n",
    "\n",
    "# # To update the work environment\n",
    "# %cd /content/drive/My Drive/ConditionalWassersteinAutoencoderPoweredBySinkhornDistance\n",
    "# !git pull\n",
    "\n",
    "%cd /content/drive/My Drive/ConditionalWassersteinAutoencoderPoweredBySinkhornDistance/casestudies"
   ]
  },
  {
   "cell_type": "code",
   "execution_count": null,
   "metadata": {},
   "outputs": [],
   "source": [
    "import os\n",
    "import sys\n",
    "sys.path.append(\"../framework/\")\n",
    "sys.path.append(\"../sl/\")\n",
    "sys.path.append(\"../wae/\")\n",
    "\n",
    "import torch\n",
    "import numpy as np\n",
    "import matplotlib \n",
    "import matplotlib.pylab as plt\n",
    "from mpl_toolkits.mplot3d import Axes3D  \n",
    "import pandas as pd\n",
    "import itertools\n",
    "\n",
    "from conc_environment_factory import ConcEnvironmentFactory\n",
    "from conc_build_parameter import ConcBuildParameter\n",
    "from conc_build_parameter_factory import ConcBuildParameterFactory\n",
    "from conc_agent_factory import ConcAgentFactory\n",
    "from wae_trainer_factory import WaeTrainerFactory\n",
    "\n",
    "from wae_batch_data_agent import WaeBatchDataAgent\n",
    "from wae_batch_data_environment import WaeBatchDataEnvironment\n",
    "\n",
    "from builder import Builder\n",
    "from store import Store\n",
    "from mylogger import MyLogger\n",
    "\n",
    "from loader import Loader"
   ]
  },
  {
   "cell_type": "code",
   "execution_count": null,
   "metadata": {},
   "outputs": [],
   "source": [
    "dbPath = \"training_log.sqlite\""
   ]
  },
  {
   "cell_type": "code",
   "execution_count": null,
   "metadata": {},
   "outputs": [],
   "source": [
    "target_casestudy = \"cs02a\""
   ]
  },
  {
   "cell_type": "code",
   "execution_count": null,
   "metadata": {},
   "outputs": [],
   "source": [
    "def evaluate_err(buildParameter, agent):\n",
    "    environment = environmentFactory.create(buildParameter)\n",
    "    trainer = trainerFactory.create(buildParameter, agent, environment)\n",
    "\n",
    "    dataBatchEnv = environment.getTestData()\n",
    "    dataBatchAg = agent(dataBatchEnv)\n",
    "\n",
    "    _err_observable = torch.mean(torch.abs(dataBatchAg._XHat - dataBatchEnv._X))\n",
    "    _err_latent, _ = trainer.measure_distance(dataBatchAg._Xi, dataBatchAg._XiHat)\n",
    "\n",
    "    err_observable = _err_observable.data.numpy()\n",
    "    err_latent = _err_latent.data.numpy()    \n",
    "    return err_observable, err_latent"
   ]
  },
  {
   "cell_type": "code",
   "execution_count": null,
   "metadata": {},
   "outputs": [],
   "source": [
    "def plot_encoder_projection_image(agent, environment, azim):\n",
    "\n",
    "    def f(r, t):\n",
    "        x = (r * np.cos(t) + 2) * np.cos(2*t)\n",
    "        y = (r * np.cos(t) + 2) * np.sin(2*t)\n",
    "        z = r * np.sin(t)\n",
    "        X = np.stack((x,y,z), axis=-1) # (*, 3)\n",
    "        return X\n",
    "    # r = self.randomState.rand(nSample) * 2 - 1\n",
    "    # t = self.randomState.rand(nSample) * np.pi \n",
    "\n",
    "    nR = 2**6\n",
    "    nT = 2**6\n",
    "    r = np.linspace(-1, 1, nR)\n",
    "    t = np.linspace(0, 1, nT) * np.pi\n",
    "    R, T = np.meshgrid(r, t) # (nT, nR)\n",
    "    XYZ = f(R, T) # (nT, nR, 3)\n",
    "\n",
    "    _XYZ = torch.from_numpy(XYZ.astype(np.float32).reshape(-1,3)) # (nT * nR, 3)\n",
    "\n",
    "    _Z = torch.ones(nT * nR).reshape(-1,1) # (*, nZ = 1)\n",
    "\n",
    "    dataBatchEnv = WaeBatchDataEnvironment(_XYZ, _Z)\n",
    "    dataBatchAgent = agent(dataBatchEnv)\n",
    "    XiHat = dataBatchAgent._XiHat.data.numpy().reshape(nT, nR, -1) # (nTheta, nR, 3)\n",
    "\n",
    "    #\n",
    "    nZ = 2**6\n",
    "    nPh = 2**6\n",
    "    z = np.linspace(0,1,nZ)\n",
    "    ph = np.linspace(0,1,nPh)*2*np.pi\n",
    "    Z, Ph = np.meshgrid(z, ph) # (nPh, nZ)\n",
    "    Xi = np.stack((np.cos(Ph), np.sin(Ph), Z), axis=-1) # (nPh, nZ, 3)\n",
    "\n",
    "    #\n",
    "    V = R * np.sin(T)\n",
    "    norm = matplotlib.colors.Normalize(vmin=V.min().min(), vmax=V.max().max())\n",
    "    cmp = plt.get_cmap(\"Blues\")\n",
    "    colors = cmp(norm(V))\n",
    "\n",
    "    fig = plt.gcf()\n",
    "    #\n",
    "    ax = fig.add_subplot(1,2,1, projection = \"3d\")\n",
    "    ax.plot_surface(XYZ[...,0], XYZ[...,1], XYZ[...,2], facecolors=colors, linewidth = 0, antialiased=True, shade = False)\n",
    "    ax.set_title('Input image \\non the observable variables space')\n",
    "    ax.axis('off')\n",
    "    ax.view_init(60, 300)\n",
    "    fig.tight_layout()\n",
    "    #\n",
    "    ax = fig.add_subplot(1,2,2, projection = \"3d\")\n",
    "    ax.plot_wireframe(Xi[...,0], Xi[...,1], Xi[...,2], color='lightgray', linewidth=1.0, alpha = .5)\n",
    "    ax.plot_surface(XiHat[...,0], XiHat[...,1], XiHat[...,2], facecolors=colors, linewidth = 0, antialiased=True, shade = False)\n",
    "    ax.set_title('Ouput image \\non the latent variables space')\n",
    "    ax.axis('off')\n",
    "    ax.view_init(60, azim)\n",
    "    #\n",
    "    ax.set_xlim(-1.10,1.10)\n",
    "    ax.set_ylim(-1.10,1.10)\n",
    "    ax.set_zlim(-0.10,1.10)\n",
    "    fig.tight_layout()"
   ]
  },
  {
   "cell_type": "code",
   "execution_count": null,
   "metadata": {},
   "outputs": [],
   "source": [
    "def plot_decoder_projection_image(agent, environment, azim):\n",
    "\n",
    "    def f(r, t):\n",
    "        x = (r * np.cos(t) + 2) * np.cos(2*t)\n",
    "        y = (r * np.cos(t) + 2) * np.sin(2*t)\n",
    "        z = r * np.sin(t)\n",
    "        X = np.stack((x,y,z), axis=-1) # (*, 3)\n",
    "        return X\n",
    "    # r = self.randomState.rand(nSample) * 2 - 1\n",
    "    # t = self.randomState.rand(nSample) * np.pi \n",
    "\n",
    "    nR = 2**6\n",
    "    nT = 2**6\n",
    "    r = np.linspace(-1, 1, nR)\n",
    "    t = np.linspace(0, 1, nT) * np.pi\n",
    "    R, T = np.meshgrid(r, t) # (nT, nR)\n",
    "    XYZ = f(R, T) # (nT, nR, 3)\n",
    "\n",
    "    #\n",
    "    nZ = 2**6\n",
    "    nPh = 2**6\n",
    "    z = np.linspace(0,1,nZ)\n",
    "    ph = np.linspace(0,1,nPh)*2*np.pi\n",
    "    Z, Ph = np.meshgrid(z, ph) # (nPh, nZ)\n",
    "    Xi = np.stack((np.cos(Ph), np.sin(Ph), Z), axis=-1) # (nPh, nZ, 3)\n",
    "\n",
    "    _Xi = torch.from_numpy(Xi.astype(np.float32).reshape(-1, 3)) # (nPh * nZ, 3)\n",
    "    _XYZhat = agent.dec(_Xi) # (nPh * nZ, 3)\n",
    "    XYZhat = _XYZhat.data.numpy().reshape(nPh, nZ, 3) # (nPh, nZ, 3)\n",
    "\n",
    "    #\n",
    "    V = Z\n",
    "    norm = matplotlib.colors.Normalize(vmin=V.min().min(), vmax=V.max().max())\n",
    "    cmp = plt.get_cmap(\"Reds\")\n",
    "    colors = cmp(norm(V))\n",
    "\n",
    "    fig = plt.gcf()\n",
    "    #\n",
    "    ax = fig.add_subplot(1,2,1, projection = \"3d\")\n",
    "    ax.plot_surface(Xi[...,0], Xi[...,1], Xi[...,2], facecolors=colors, linewidth = 0, antialiased=True, shade = False)\n",
    "\n",
    "    ax.set_title('Input image \\non the latent variables space')\n",
    "    ax.axis('off')\n",
    "    ax.view_init(60, 300)\n",
    "    ax.set_xlim(-1.10,1.10)\n",
    "    ax.set_ylim(-1.10,1.10)\n",
    "    ax.set_zlim(-0.10,1.10)\n",
    "    fig.tight_layout()\n",
    "    #\n",
    "    ax = fig.add_subplot(1,2,2, projection = \"3d\")\n",
    "    ax.plot_wireframe(XYZ[...,0], XYZ[...,1], XYZ[...,2], color='lightgray', linewidth=1.0, alpha = .5)\n",
    "    ax.plot_surface(XYZhat[...,0], XYZhat[...,1], XYZhat[...,2], facecolors=colors, linewidth = 0, antialiased=True, shade = False)\n",
    "\n",
    "    ax.set_title('Ouput image \\non the observable variables space')\n",
    "    ax.axis('off')\n",
    "    ax.view_init(60, azim)\n",
    "    #\n",
    "    fig.tight_layout()"
   ]
  },
  {
   "cell_type": "markdown",
   "metadata": {},
   "source": [
    "## S400: Load trained agents to analyze them"
   ]
  },
  {
   "cell_type": "markdown",
   "metadata": {},
   "source": [
    "### SS410: initialize a loader of trained agents"
   ]
  },
  {
   "cell_type": "code",
   "execution_count": null,
   "metadata": {},
   "outputs": [],
   "source": [
    "agentFactory = ConcAgentFactory()\n",
    "environmentFactory = ConcEnvironmentFactory()\n",
    "trainerFactory =  WaeTrainerFactory()\n",
    "\n",
    "store = Store(dbPath)\n",
    "\n",
    "buildParameterFactory = ConcBuildParameterFactory()\n",
    "loader = Loader(agentFactory=agentFactory\n",
    "                , environmentFactory=environmentFactory\n",
    "                , buildParameterFactory=buildParameterFactory\n",
    "                , store = store)"
   ]
  },
  {
   "cell_type": "markdown",
   "metadata": {},
   "source": [
    "### SS420: evaluate trained agents:\n",
    "\n",
    "evaluation error is here:\n",
    "* the representitive errors of observable variables\n",
    "* and the discrepancy between latent referenced distribution and the one projected by trained encoder"
   ]
  },
  {
   "cell_type": "code",
   "execution_count": null,
   "metadata": {},
   "outputs": [],
   "source": [
    "tbl = {\n",
    "    \"criteria\": []\n",
    "    , \"score\": []\n",
    "    , \"epoch\": []\n",
    "      }\n",
    "for agent, buildParameter, epoch in loader.load(target_casestudy + \"%\"):\n",
    "    representative_error, latent_distribution_discrepancy = evaluate_err(buildParameter, agent)\n",
    "    \n",
    "    for score, criteria in [\n",
    "        (representative_error, \"Representative Error\")\n",
    "        , (latent_distribution_discrepancy, \"Latent Distributions Discrepancy\")]:\n",
    "\n",
    "        for key in buildParameter.__dict__:\n",
    "            if not key in tbl:\n",
    "                tbl[key] = []\n",
    "            tbl[key].append(buildParameter.__dict__[key])\n",
    "    \n",
    "        tbl[\"epoch\"].append(epoch)\n",
    "        tbl[\"criteria\"].append(criteria)\n",
    "        tbl[\"score\"].append(score)\n",
    "\n",
    "tbl = pd.DataFrame(tbl)\n",
    "tbl.to_csv(target_casestudy +  \"_score.csv\")"
   ]
  },
  {
   "cell_type": "markdown",
   "metadata": {},
   "source": [
    "### SS430: Print encoder's images"
   ]
  },
  {
   "cell_type": "code",
   "execution_count": null,
   "metadata": {},
   "outputs": [],
   "source": [
    "for agent, buildParameter, epoch in loader.load(target_casestudy + \"%\", buildParameterKey=None):\n",
    "    \n",
    "    if epoch == buildParameter.nEpoch:\n",
    "        for azim in np.arange(0, 360, 30):\n",
    "            environment = environmentFactory.create(buildParameter)\n",
    "            fig = plt.figure(figsize=[12, 6])\n",
    "            plot_encoder_projection_image(agent, environment, azim)\n",
    "            fig.savefig(\"./img/cs02a_encoder_projection_%s_azim=%03d.png\" % (buildParameter.key, azim))\n",
    "            plt.close(fig)\n",
    "        break"
   ]
  },
  {
   "cell_type": "markdown",
   "metadata": {},
   "source": [
    "### SS440: Print decoder's images"
   ]
  },
  {
   "cell_type": "code",
   "execution_count": null,
   "metadata": {},
   "outputs": [],
   "source": [
    "for agent, buildParameter, epoch in loader.load(target_casestudy + \"%\", buildParameterKey=None):\n",
    "    \n",
    "    if epoch == buildParameter.nEpoch:\n",
    "        for azim in np.arange(0, 360, 30):        \n",
    "            environment = environmentFactory.create(buildParameter)\n",
    "            fig = plt.figure(figsize=[12, 6])\n",
    "            plot_decoder_projection_image(agent, environment, azim)\n",
    "            fig.savefig(\"./img/cs02a_deccoder_projection_%s_azim=%03d.png\" % (buildParameter.key, azim))\n",
    "            plt.close(fig)\n",
    "        break"
   ]
  }
 ],
 "metadata": {
  "kernelspec": {
   "display_name": "Python 3",
   "language": "python",
   "name": "python3"
  },
  "language_info": {
   "codemirror_mode": {
    "name": "ipython",
    "version": 3
   },
   "file_extension": ".py",
   "mimetype": "text/x-python",
   "name": "python",
   "nbconvert_exporter": "python",
   "pygments_lexer": "ipython3",
   "version": "3.7.5"
  }
 },
 "nbformat": 4,
 "nbformat_minor": 2
}
