{
 "cells": [
  {
   "cell_type": "code",
   "execution_count": null,
   "metadata": {},
   "outputs": [],
   "source": [
    "# To mount\n",
    "from google.colab import drive\n",
    "drive.mount('/content/drive')\n",
    "\n",
    "# # To initialize the work environment\n",
    "# %cd /content/drive/My Drive/\n",
    "# !git clone https://github.com/allnightlight/ConditionalWassersteinAutoencoderPoweredBySinkhornDistance/casestudies -b casestudies\n",
    "\n",
    "# # To update the work environment\n",
    "# %cd /content/drive/My Drive/ConditionalWassersteinAutoencoderPoweredBySinkhornDistance\n",
    "# !git pull\n",
    "\n",
    "%cd /content/drive/My Drive/ConditionalWassersteinAutoencoderPoweredBySinkhornDistance/casestudies"
   ]
  },
  {
   "cell_type": "code",
   "execution_count": null,
   "metadata": {},
   "outputs": [],
   "source": [
    "import os\n",
    "import sys\n",
    "sys.path.append(\"../framework/\")\n",
    "sys.path.append(\"../sl/\")\n",
    "sys.path.append(\"../wae/\")\n",
    "\n",
    "import torch\n",
    "import numpy as np\n",
    "import matplotlib.pylab as plt\n",
    "import pandas as pd\n",
    "\n",
    "from conc_environment_factory import ConcEnvironmentFactory\n",
    "from conc_build_parameter import ConcBuildParameter\n",
    "from conc_build_parameter_factory import ConcBuildParameterFactory\n",
    "from conc_agent_factory import ConcAgentFactory\n",
    "from wae_trainer_factory import WaeTrainerFactory\n",
    "\n",
    "from wae_batch_data_agent import WaeBatchDataAgent\n",
    "from wae_batch_data_environment import WaeBatchDataEnvironment\n",
    "\n",
    "from builder import Builder\n",
    "from store import Store\n",
    "from mylogger import MyLogger\n",
    "\n",
    "from loader import Loader"
   ]
  },
  {
   "cell_type": "code",
   "execution_count": null,
   "metadata": {},
   "outputs": [],
   "source": [
    "dbPath = \"training_log.sqlite\""
   ]
  },
  {
   "cell_type": "code",
   "execution_count": null,
   "metadata": {},
   "outputs": [],
   "source": [
    "target_casestudy = \"cs01c\""
   ]
  },
  {
   "cell_type": "code",
   "execution_count": null,
   "metadata": {},
   "outputs": [],
   "source": [
    "def evaluate_err(buildParameter, agent):\n",
    "    environment = environmentFactory.create(buildParameter)\n",
    "    trainer = trainerFactory.create(buildParameter, agent, environment)\n",
    "\n",
    "    err_latent = []\n",
    "    err_observable = []\n",
    "    for dataBatchEnv in environment.generateBatchDataIterator():\n",
    "        dataBatchAg = agent(dataBatchEnv)\n",
    "        \n",
    "        _err_latent, _ = trainer.measure_distance(dataBatchAg._Xi, dataBatchAg._XiHat)\n",
    "        _err_observable = torch.mean(torch.abs(dataBatchAg._XHat - dataBatchEnv._X))\n",
    "\n",
    "        err_latent.append(_err_latent.data.numpy())\n",
    "        err_observable.append(_err_observable.data.numpy())\n",
    "    err_latent = np.mean(err_latent)\n",
    "    err_observable = np.mean(err_observable)\n",
    "    \n",
    "    return err_observable, err_latent"
   ]
  },
  {
   "cell_type": "code",
   "execution_count": null,
   "metadata": {},
   "outputs": [],
   "source": [
    "import itertools"
   ]
  },
  {
   "cell_type": "code",
   "execution_count": null,
   "metadata": {},
   "outputs": [],
   "source": [
    "def get_pair_of_xi_and_xihat(buildParameter, agent, nBatches):\n",
    "    environment = environmentFactory.create(buildParameter)\n",
    "    trainer = trainerFactory.create(buildParameter, agent, environment)\n",
    "\n",
    "    Xi = []\n",
    "    XiHat = []\n",
    "    for dataBatchEnv in itertools.islice(environment.generateBatchDataIterator(), nBatches):\n",
    "        dataBatchAg = agent(dataBatchEnv)\n",
    "\n",
    "        Xi.append(dataBatchAg._Xi.data.numpy())\n",
    "        XiHat.append(dataBatchAg._XiHat.data.numpy())\n",
    "    Xi = np.concatenate(Xi, axis=0) # (*, nXi)\n",
    "    XiHat = np.concatenate(XiHat, axis=0) # (*, nXi)\n",
    "    \n",
    "    return Xi, XiHat"
   ]
  },
  {
   "cell_type": "code",
   "execution_count": null,
   "metadata": {},
   "outputs": [],
   "source": [
    "def plot_encoder_projection_image(agent, environment):\n",
    "    d_out = environment.d_out\n",
    "    d_in = environment.d_in\n",
    "    \n",
    "    nX = 2**4\n",
    "    nY = 2**4\n",
    "    x = np.linspace(0, 1, nX) # (nX)\n",
    "    y = np.linspace(0, 1, nY) # (nY)\n",
    "\n",
    "    X, Y = np.meshgrid(x, y) # (nY, nX)\n",
    "    Xi1 = np.stack((X, Y), axis=2) # (nY, nX, 2)\n",
    "    Xi2 = np.stack((X.T, Y.T), axis=2) # (nX, nY, 2)\n",
    "\n",
    "    nR = 2**2\n",
    "    nTheta = 2**6\n",
    "    r = np.linspace(d_in/2, d_out/2, nR) # (nR)\n",
    "    theta = np.linspace(0, 2*np.pi, nTheta) # (nTheta)\n",
    "\n",
    "    R, Theta = np.meshgrid(r, theta) # (nTheta, nR)\n",
    "    X1 = np.stack((R * np.cos(Theta), R * np.sin(Theta)), axis=2) # (nTheta, nR, 2)\n",
    "    X2 = np.stack((R.T * np.cos(Theta.T), R.T * np.sin(Theta.T)), axis=2) # (nR, nTheta, 2)\n",
    "    _X1 = torch.from_numpy(X1.astype(np.float32).reshape(-1,2)) # (nTheta * nR, 2)\n",
    "    _X2 = torch.from_numpy(X2.astype(np.float32).reshape(-1,2)) # (nR * nTheta, 2)\n",
    "\n",
    "    _Z = torch.ones(nR * nTheta).reshape(-1,1) # (*, nZ = 1)\n",
    "\n",
    "    dataBatchEnv = WaeBatchDataEnvironment(_X1, _Z)\n",
    "    dataBatchAgent = agent(dataBatchEnv)\n",
    "    XiHat1 = dataBatchAgent._XiHat.data.numpy().reshape(nTheta, nR, -1) # (nTheta, nR, 2)\n",
    "\n",
    "    dataBatchEnv = WaeBatchDataEnvironment(_X2, _Z)\n",
    "    dataBatchAgent = agent(dataBatchEnv)\n",
    "    XiHat2 = dataBatchAgent._XiHat.data.numpy().reshape(nR, nTheta, -1) # (nR, nTheta, 2)\n",
    "\n",
    "    fig = plt.gcf()\n",
    "    #\n",
    "    ax = fig.add_subplot(1,2,1)\n",
    "    ax.plot(X1[...,0], X1[...,1], '-', color = \"lightgray\", linewidth = 0.5)\n",
    "    ax.plot(X2[...,0], X2[...,1], '-', color = \"lightgray\", linewidth = 0.5)\n",
    "    ax.contourf(X1[...,0], X1[...,1], R, cmap = plt.get_cmap('Blues'))\n",
    "    ax.set_title('Input image \\non the observable variables space')\n",
    "    ax.axis('off')\n",
    "    ax.set_aspect('equal', 'datalim')\n",
    "    ax.set_xlim(-1,1)\n",
    "    ax.set_ylim(-1,1)\n",
    "    plt.tight_layout()\n",
    "    #\n",
    "    ax = fig.add_subplot(1,2,2)\n",
    "    ax.plot(Xi1[...,0], Xi1[...,1], '-', color = \"gray\", linewidth = 0.5)\n",
    "    ax.plot(Xi2[...,0], Xi2[...,1], '-', color = \"gray\", linewidth = 0.5)\n",
    "    ax.plot(XiHat1[...,0], XiHat1[...,1], '-', color = \"lightgray\", linewidth = 0.5)\n",
    "    ax.plot(XiHat2[...,0], XiHat2[...,1], '-', color = \"lightgray\", linewidth = 0.5)\n",
    "    ax.contourf(XiHat1[...,0], XiHat1[...,1], R, cmap = plt.get_cmap('Blues'))\n",
    "    ax.set_title('Projected image\\non the latent variables space')    \n",
    "    ax.set_aspect('equal', 'datalim')\n",
    "    ax.set_xlim(-0.10,1.10)\n",
    "    ax.set_ylim(-0.10,1.10)\n",
    "    ax.axis('off')\n",
    "    #\n",
    "    fig.tight_layout()"
   ]
  },
  {
   "cell_type": "code",
   "execution_count": null,
   "metadata": {},
   "outputs": [],
   "source": [
    "def plot_decoder_projection_image(agent, environment):\n",
    "\n",
    "    d_out = environment.d_out\n",
    "    d_in = environment.d_in\n",
    "\n",
    "    nR = 2**2\n",
    "    nTheta = 2**6\n",
    "    r = np.linspace(d_in/2, d_out/2, nR) # (nR)\n",
    "    theta = np.linspace(0, 2*np.pi, nTheta) # (nTheta)\n",
    "\n",
    "    R, Theta = np.meshgrid(r, theta) # (nTheta, nR)\n",
    "    X1 = np.stack((R * np.cos(Theta), R * np.sin(Theta)), axis=2) # (nTheta, nR, 2)\n",
    "    X2 = np.stack((R.T * np.cos(Theta.T), R.T * np.sin(Theta.T)), axis=2) # (nR, nTheta, 2)\n",
    "\n",
    "    nX = 2**4\n",
    "    nY = 2**4\n",
    "    x = np.linspace(0, 1, nX) # (nX)\n",
    "    y = np.linspace(0, 1, nY) # (nY)\n",
    "\n",
    "    X, Y = np.meshgrid(x, y) # (nY, nX)\n",
    "    Xi1 = np.stack((X, Y), axis=2) # (nY, nX, 2)\n",
    "    Xi2 = np.stack((X.T, Y.T), axis=2) # (nX, nY, 2)\n",
    "    _Xi1 = torch.from_numpy(Xi1.astype(np.float32).reshape(-1,2)) # (nY * nX, 2)\n",
    "    _Xi2 = torch.from_numpy(Xi2.astype(np.float32).reshape(-1,2)) # (nX * nY, 2)\n",
    "\n",
    "    _XHat1 = agent.dec(_Xi1) # (nY * nX, 2)\n",
    "    _XHat2 = agent.dec(_Xi2) # (nY * nX, 2)\n",
    "\n",
    "    XHat1 = _XHat1.data.numpy().reshape(nY, nX, 2) # (nY, nX, 2)\n",
    "    XHat2 = _XHat2.data.numpy().reshape(nX, nY, 2) # (nX, nY, 2)\n",
    "\n",
    "    fig = plt.gcf()\n",
    "    #\n",
    "    ax = fig.add_subplot(1,2,1)\n",
    "    ax.plot(Xi1[...,0], Xi1[...,1], '-', color = \"lightgray\", linewidth = 0.5)\n",
    "    ax.plot(Xi2[...,0], Xi2[...,1], '-', color = \"lightgray\", linewidth = 0.5)\n",
    "    ax.contourf(Xi1[...,0], Xi1[...,1], Xi1[..., 0], cmap = plt.get_cmap('Reds'))\n",
    "    ax.set_title('Input image \\non the latent variables space')\n",
    "    ax.axis('off')\n",
    "    ax.set_aspect('equal', 'datalim')\n",
    "    ax.set_xlim(0,1)\n",
    "    ax.set_ylim(0,1)\n",
    "    plt.tight_layout()\n",
    "    #\n",
    "    ax = fig.add_subplot(1,2,2)\n",
    "    ax.plot(X1[...,0], X1[...,1], '-', color = \"gray\", linewidth = 0.5)\n",
    "    ax.plot(X2[...,0], X2[...,1], '-', color = \"gray\", linewidth = 0.5)\n",
    "\n",
    "    ax.plot(XHat1[...,0], XHat1[...,1], '-', color = \"lightgray\", linewidth = 0.5)\n",
    "    ax.plot(XHat2[...,0], XHat2[...,1], '-', color = \"lightgray\", linewidth = 0.5)\n",
    "    ax.contourf(XHat1[...,0], XHat1[...,1], Xi1[..., 0], cmap = plt.get_cmap('Reds'))\n",
    "\n",
    "    ax.set_title('Projected image \\non the observable variables space')\n",
    "    ax.set_aspect('equal', 'datalim')\n",
    "    ax.set_xlim(-1.10,1.10)\n",
    "    ax.set_ylim(-1.10,1.10)\n",
    "    ax.axis('off')\n",
    "    #\n",
    "    fig.tight_layout()"
   ]
  },
  {
   "cell_type": "markdown",
   "metadata": {},
   "source": [
    "## S400: Load trained agents to analyze them"
   ]
  },
  {
   "cell_type": "markdown",
   "metadata": {},
   "source": [
    "### SS410: initialize a loader of trained agents"
   ]
  },
  {
   "cell_type": "code",
   "execution_count": null,
   "metadata": {},
   "outputs": [],
   "source": [
    "agentFactory = ConcAgentFactory()\n",
    "environmentFactory = ConcEnvironmentFactory()\n",
    "trainerFactory =  WaeTrainerFactory()\n",
    "\n",
    "store = Store(dbPath)\n",
    "\n",
    "buildParameterFactory = ConcBuildParameterFactory()\n",
    "loader = Loader(agentFactory=agentFactory\n",
    "                , environmentFactory=environmentFactory\n",
    "                , buildParameterFactory=buildParameterFactory\n",
    "                , store = store)"
   ]
  },
  {
   "cell_type": "markdown",
   "metadata": {},
   "source": [
    "### SS420: evaluate trained agents:\n",
    "\n",
    "evaluation error is here:\n",
    "* the representitive errors of observable variables\n",
    "* and the discrepancy between latent referenced distribution and the one projected by trained encoder"
   ]
  },
  {
   "cell_type": "code",
   "execution_count": null,
   "metadata": {},
   "outputs": [],
   "source": [
    "tbl = {\n",
    "    \"representative_error\": []\n",
    "    , \"latent_distribution_discrepancy\": []\n",
    "    , \"epoch\": []\n",
    "      }\n",
    "for agent, buildParameter, epoch in loader.load(target_casestudy + \"%\"):\n",
    "    \n",
    "    for key in buildParameter.__dict__:\n",
    "        if not key in tbl:\n",
    "            tbl[key] = []\n",
    "        tbl[key].append(buildParameter.__dict__[key])\n",
    "    \n",
    "    err_observable, err_latent = evaluate_err(buildParameter, agent)\n",
    "    \n",
    "    tbl[\"epoch\"].append(epoch)\n",
    "    tbl[\"representative_error\"].append(err_observable)\n",
    "    tbl[\"latent_distribution_discrepancy\"].append(err_latent)\n",
    "    \n",
    "tbl = pd.DataFrame(tbl)\n",
    "tbl.to_csv(target_casestudy +  \"_error.csv\")\n",
    "\n",
    "buildParameterBest = tbl.iloc[tbl[\"latent_distribution_discrepancy\"].idxmin(),][\"key\"]"
   ]
  },
  {
   "cell_type": "code",
   "execution_count": null,
   "metadata": {},
   "outputs": [],
   "source": [
    "tbl = {\n",
    "    \"var\": []\n",
    "    , \"x\": []\n",
    "    , \"y\": []\n",
    "    }\n",
    "for agent, buildParameter, epoch in loader.load(target_casestudy + \"%\"):\n",
    "    \n",
    "    if epoch == buildParameter.nEpoch:\n",
    "            \n",
    "        Xi, XiHat = get_pair_of_xi_and_xihat(buildParameter, agent, nBatches = 8)\n",
    "\n",
    "        for label, var in [ \n",
    "            (\"Xi\", Xi)\n",
    "            , (\"XiHat\", XiHat)\n",
    "            ]:\n",
    "            for x, y in var:\n",
    "                \n",
    "                for key in buildParameter.__dict__:\n",
    "                    if not key in tbl:\n",
    "                        tbl[key] = []\n",
    "                    tbl[key].append(buildParameter.__dict__[key])                \n",
    "                \n",
    "                tbl[\"var\"].append(label)\n",
    "                tbl[\"x\"].append(x)\n",
    "                tbl[\"y\"].append(y)\n",
    "\n",
    "tbl = pd.DataFrame(tbl)\n",
    "tbl.to_csv(target_casestudy +  \"_xi_and_xihat.csv\")"
   ]
  },
  {
   "cell_type": "markdown",
   "metadata": {},
   "source": [
    "### SS430: plot encoder's projection"
   ]
  },
  {
   "cell_type": "code",
   "execution_count": null,
   "metadata": {},
   "outputs": [],
   "source": [
    "for agent, buildParameter, epoch in loader.load(target_casestudy + \"%\", buildParameterKey=buildParameterBest):\n",
    "    \n",
    "    if epoch == buildParameter.nEpoch:\n",
    "        environment = environmentFactory.create(buildParameter)\n",
    "        fig = plt.figure(figsize=[8, 6])\n",
    "        plot_encoder_projection_image(agent, environment)\n",
    "        fig.savefig(\"./img/encoder_projection_%s.png\" % buildParameter.key)\n",
    "        plt.close(fig)"
   ]
  },
  {
   "cell_type": "markdown",
   "metadata": {},
   "source": [
    "### SS440: plot decoder's projection"
   ]
  },
  {
   "cell_type": "code",
   "execution_count": null,
   "metadata": {},
   "outputs": [],
   "source": [
    "for agent, buildParameter, epoch in loader.load(target_casestudy + \"%\", buildParameterKey=buildParameterBest):\n",
    "    \n",
    "    if epoch == buildParameter.nEpoch:\n",
    "        environment = environmentFactory.create(buildParameter)\n",
    "        fig = plt.figure(figsize=[8, 6])\n",
    "        plot_decoder_projection_image(agent, environment)\n",
    "        fig.savefig(\"./img/deccoder_projection_%s.png\" % buildParameter.key)\n",
    "        plt.close(fig)"
   ]
  }
 ],
 "metadata": {
  "kernelspec": {
   "display_name": "Python 3",
   "language": "python",
   "name": "python3"
  },
  "language_info": {
   "codemirror_mode": {
    "name": "ipython",
    "version": 3
   },
   "file_extension": ".py",
   "mimetype": "text/x-python",
   "name": "python",
   "nbconvert_exporter": "python",
   "pygments_lexer": "ipython3",
   "version": "3.7.5"
  }
 },
 "nbformat": 4,
 "nbformat_minor": 2
}
