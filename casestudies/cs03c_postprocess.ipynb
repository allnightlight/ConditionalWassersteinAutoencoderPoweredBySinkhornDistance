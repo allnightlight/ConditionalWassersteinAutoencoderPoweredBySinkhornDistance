{
 "cells": [
  {
   "cell_type": "code",
   "execution_count": null,
   "metadata": {},
   "outputs": [],
   "source": [
    "# To mount\n",
    "from google.colab import drive\n",
    "drive.mount('/content/drive')\n",
    "\n",
    "# # To initialize the work environment\n",
    "# %cd /content/drive/My Drive/\n",
    "# !git clone https://github.com/allnightlight/ConditionalWassersteinAutoencoderPoweredBySinkhornDistance/casestudies -b casestudies\n",
    "\n",
    "# # To update the work environment\n",
    "# %cd /content/drive/My Drive/ConditionalWassersteinAutoencoderPoweredBySinkhornDistance\n",
    "# !git pull\n",
    "\n",
    "%cd /content/drive/My Drive/ConditionalWassersteinAutoencoderPoweredBySinkhornDistance/casestudies"
   ]
  },
  {
   "cell_type": "code",
   "execution_count": null,
   "metadata": {},
   "outputs": [],
   "source": [
    "import os\n",
    "import sys\n",
    "sys.path.append(\"../framework/\")\n",
    "sys.path.append(\"../sl/\")\n",
    "sys.path.append(\"../wae/\")\n",
    "\n",
    "import torch\n",
    "import numpy as np\n",
    "import matplotlib \n",
    "import matplotlib.pylab as plt\n",
    "from mpl_toolkits.mplot3d import Axes3D  \n",
    "import pandas as pd\n",
    "import itertools\n",
    "\n",
    "from conc_environment_factory import ConcEnvironmentFactory\n",
    "from conc_build_parameter import ConcBuildParameter\n",
    "from conc_build_parameter_factory import ConcBuildParameterFactory\n",
    "from conc_agent_factory import ConcAgentFactory\n",
    "from wae_trainer_factory import WaeTrainerFactory\n",
    "\n",
    "from wae_batch_data_agent import WaeBatchDataAgent\n",
    "from wae_batch_data_environment import WaeBatchDataEnvironment\n",
    "\n",
    "from builder import Builder\n",
    "from store import Store\n",
    "from mylogger import MyLogger\n",
    "\n",
    "from loader import Loader"
   ]
  },
  {
   "cell_type": "code",
   "execution_count": null,
   "metadata": {},
   "outputs": [],
   "source": [
    "dbPath = \"training_log.sqlite\""
   ]
  },
  {
   "cell_type": "code",
   "execution_count": null,
   "metadata": {},
   "outputs": [],
   "source": [
    "target_casestudy = \"cs03b\""
   ]
  },
  {
   "cell_type": "code",
   "execution_count": null,
   "metadata": {},
   "outputs": [],
   "source": [
    "def evaluate_err(buildParameter, agent):\n",
    "    environment = environmentFactory.create(buildParameter)\n",
    "    trainer = trainerFactory.create(buildParameter, agent, environment)\n",
    "\n",
    "    dataBatchEnv = environment.getTestData()\n",
    "    dataBatchAg = agent(dataBatchEnv)\n",
    "\n",
    "    _err_observable = torch.mean(torch.abs(dataBatchAg._XHat - dataBatchEnv._X))\n",
    "    _err_latent, _ = trainer.measure_distance(dataBatchAg._Xi, dataBatchAg._XiHat)\n",
    "\n",
    "    err_observable = _err_observable.data.numpy()\n",
    "    err_latent = _err_latent.data.numpy()    \n",
    "    return err_observable, err_latent"
   ]
  },
  {
   "cell_type": "code",
   "execution_count": null,
   "metadata": {},
   "outputs": [],
   "source": [
    "def approximate_observable_image(th):\n",
    "    \n",
    "    # theta: (...)\n",
    "    r = 2 + np.cos(3*th) # (...)\n",
    "    x = r * np.cos(2*th) # (...)\n",
    "    y = r * np.sin(2*th) # (...)\n",
    "    z = np.sin(3*th) # (...)\n",
    "\n",
    "    X = np.stack((x,y,z), axis=-1) # (..., 3)\n",
    "    \n",
    "    return X  # (..., 3)\n",
    "\n",
    "def approximate_latent_image(th):\n",
    "    xi1 = np.cos(th)\n",
    "    xi2 = np.sin(th)\n",
    "    xi3 = np.zeros(th.shape)\n",
    "    \n",
    "    Xi = np.stack((xi1, xi2, xi3), axis=-1) # (..., nXi = 3)\n",
    "    \n",
    "    return Xi # (..., 3)"
   ]
  },
  {
   "cell_type": "code",
   "execution_count": null,
   "metadata": {},
   "outputs": [],
   "source": [
    "def plot_encoder_projection_image(agent, environment, azim):\n",
    "    \n",
    "    nTh = 2**10\n",
    "    Th = np.linspace(0, 1, nTh) * np.pi * 2\n",
    "    XYZ = approximate_observable_image(Th) # (nTh, 3)\n",
    "    Xi = approximate_latent_image(Th) # (nTh, 3)\n",
    "\n",
    "    _XYZ = torch.from_numpy(XYZ.astype(np.float32)) # (nTh, 3)\n",
    "    _Z = torch.zeros(nTh, environment.nZ)\n",
    "\n",
    "    dataBatchEnv = WaeBatchDataEnvironment(_XYZ, _Z)\n",
    "    dataBatchAgent = agent(dataBatchEnv)\n",
    "    XiHat = dataBatchAgent._XiHat.data.numpy() # (nTheta, 3)\n",
    "\n",
    "    fig = plt.gcf()\n",
    "    #\n",
    "    ax = fig.add_subplot(1,2,1, projection = \"3d\")\n",
    "    ax.plot(XYZ[...,0], XYZ[...,1], XYZ[...,2], color = \"blue\", linewidth = 1.0)\n",
    "    ax.set_title('Input image \\non the observable variables space')\n",
    "    ax.axis('off')\n",
    "    ax.view_init(30, azim)\n",
    "    #\n",
    "    ax.set_xlim(-3.10,3.10)\n",
    "    ax.set_ylim(-3.10,3.10)\n",
    "    ax.set_zlim(-1.10,1.10)\n",
    "    #\n",
    "    ax = fig.add_subplot(1,2,2, projection = \"3d\")\n",
    "    ax.plot(Xi[...,0], Xi[...,1], Xi[...,2], color='lightgrey', linewidth=.5)\n",
    "    ax.plot(XiHat[...,0], XiHat[...,1], XiHat[...,2], color=\"blue\", linewidth = 1.0)\n",
    "    ax.set_title('Ouput image \\non the latent variables space')\n",
    "    ax.axis('off')\n",
    "    ax.view_init(30, azim)\n",
    "    #\n",
    "    ax.set_xlim(-1.10,1.10)\n",
    "    ax.set_ylim(-1.10,1.10)\n",
    "    ax.set_zlim(-1.10,1.10)\n",
    "    fig.tight_layout()"
   ]
  },
  {
   "cell_type": "code",
   "execution_count": null,
   "metadata": {},
   "outputs": [],
   "source": [
    "def plot_decoder_projection_image(agent, environment, azim):\n",
    "    \n",
    "    nTh = 2**10\n",
    "    Th = np.linspace(0, 1, nTh) * np.pi * 2\n",
    "    XYZ = approximate_observable_image(Th) # (nTh, 3)\n",
    "    Xi = approximate_latent_image(Th) # (nTh, 3)\n",
    "\n",
    "    _Xi = torch.from_numpy(Xi.astype(np.float32)) # (nTh, 3)\n",
    "    _XYZHat = agent.dec(_Xi) # (nTh, 3)\n",
    "    XYZHat = _XYZHat.data.numpy() # (nTh, 3)\n",
    "\n",
    "    fig = plt.gcf()\n",
    "    #\n",
    "    ax = fig.add_subplot(1,2,1, projection = \"3d\")\n",
    "    ax.plot(Xi[...,0], Xi[...,1], Xi[...,2], color=\"red\", linewidth=1.)\n",
    "\n",
    "    ax.set_title('Input image \\non the latent variables space')\n",
    "    ax.axis('off')\n",
    "    ax.view_init(30, azim)\n",
    "    #\n",
    "    ax.set_xlim(-1.10,1.10)\n",
    "    ax.set_ylim(-1.10,1.10)\n",
    "    ax.set_zlim(-1.10,1.10)\n",
    "    #\n",
    "    ax = fig.add_subplot(1,2,2, projection = \"3d\")\n",
    "    ax.plot(XYZ[...,0], XYZ[...,1], XYZ[...,2], color = 'lightgray', linewidth = 1)\n",
    "    ax.plot(XYZHat[...,0], XYZHat[...,1], XYZHat[...,2], color=\"red\", linewidth = 1)\n",
    "    ax.set_title('Ouput image \\non the observable variables space')\n",
    "    ax.axis('off')\n",
    "    ax.view_init(30, azim)\n",
    "    #\n",
    "    ax.set_xlim(-3.10,3.10)\n",
    "    ax.set_ylim(-3.10,3.10)\n",
    "    ax.set_zlim(-1.10,1.10)\n",
    "    fig.tight_layout()"
   ]
  },
  {
   "cell_type": "markdown",
   "metadata": {},
   "source": [
    "## S400: Load trained agents to analyze them"
   ]
  },
  {
   "cell_type": "markdown",
   "metadata": {},
   "source": [
    "### SS410: initialize a loader of trained agents"
   ]
  },
  {
   "cell_type": "code",
   "execution_count": null,
   "metadata": {},
   "outputs": [],
   "source": [
    "agentFactory = ConcAgentFactory()\n",
    "environmentFactory = ConcEnvironmentFactory()\n",
    "trainerFactory =  WaeTrainerFactory()\n",
    "\n",
    "store = Store(dbPath)\n",
    "\n",
    "buildParameterFactory = ConcBuildParameterFactory()\n",
    "loader = Loader(agentFactory=agentFactory\n",
    "                , environmentFactory=environmentFactory\n",
    "                , buildParameterFactory=buildParameterFactory\n",
    "                , store = store)"
   ]
  },
  {
   "cell_type": "markdown",
   "metadata": {},
   "source": [
    "### SS420: evaluate trained agents:\n",
    "\n",
    "evaluation error is here:\n",
    "* the representitive errors of observable variables\n",
    "* and the discrepancy between latent referenced distribution and the one projected by trained encoder"
   ]
  },
  {
   "cell_type": "code",
   "execution_count": null,
   "metadata": {},
   "outputs": [],
   "source": [
    "tbl = {\n",
    "    \"criteria\": []\n",
    "    , \"score\": []\n",
    "    , \"epoch\": []\n",
    "      }\n",
    "for agent, buildParameter, epoch in loader.load(target_casestudy + \"%\"):\n",
    "    representative_error, latent_distribution_discrepancy = evaluate_err(buildParameter, agent)\n",
    "    \n",
    "    for score, criteria in [\n",
    "        (representative_error, \"Representative Error\")\n",
    "        , (latent_distribution_discrepancy, \"Latent Distributions Discrepancy\")]:\n",
    "\n",
    "        for key in buildParameter.__dict__:\n",
    "            if not key in tbl:\n",
    "                tbl[key] = []\n",
    "            tbl[key].append(buildParameter.__dict__[key])\n",
    "    \n",
    "        tbl[\"epoch\"].append(epoch)\n",
    "        tbl[\"criteria\"].append(criteria)\n",
    "        tbl[\"score\"].append(score)\n",
    "\n",
    "tbl = pd.DataFrame(tbl)\n",
    "tbl.to_csv(target_casestudy +  \"_score.csv\")"
   ]
  },
  {
   "cell_type": "markdown",
   "metadata": {},
   "source": [
    "### SS430: Print encoder's images"
   ]
  },
  {
   "cell_type": "code",
   "execution_count": null,
   "metadata": {},
   "outputs": [],
   "source": [
    "for agent, buildParameter, epoch in loader.load(target_casestudy + \"%\", buildParameterKey=None):\n",
    "    \n",
    "    if epoch == buildParameter.nEpoch:\n",
    "        for azim in np.arange(0, 360, 30):\n",
    "            environment = environmentFactory.create(buildParameter)\n",
    "            fig = plt.figure(figsize=[12, 6])            \n",
    "            plot_encoder_projection_image(agent, environment, azim)\n",
    "            fig.savefig(\"./img/%s_encoder_projection_%s_azim=%03d.png\" % (target_casestudy, buildParameter.key, azim))\n",
    "            plt.close(fig)\n",
    "        break"
   ]
  },
  {
   "cell_type": "markdown",
   "metadata": {},
   "source": [
    "### SS440: Print decoder's images"
   ]
  },
  {
   "cell_type": "code",
   "execution_count": null,
   "metadata": {},
   "outputs": [],
   "source": [
    "for agent, buildParameter, epoch in loader.load(target_casestudy + \"%\", buildParameterKey=None):\n",
    "    \n",
    "    if epoch == buildParameter.nEpoch:\n",
    "        for azim in np.arange(0, 360, 30):\n",
    "            environment = environmentFactory.create(buildParameter)\n",
    "            fig = plt.figure(figsize=[12, 6])\n",
    "            plot_decoder_projection_image(agent, environment, azim)\n",
    "            fig.savefig(\"./img/%s_decoder_projection_%s_azim=%03d.png\" % (target_casestudy, buildParameter.key, azim))\n",
    "            plt.close(fig)\n",
    "        break"
   ]
  }
 ],
 "metadata": {
  "kernelspec": {
   "display_name": "Python 3",
   "language": "python",
   "name": "python3"
  },
  "language_info": {
   "codemirror_mode": {
    "name": "ipython",
    "version": 3
   },
   "file_extension": ".py",
   "mimetype": "text/x-python",
   "name": "python",
   "nbconvert_exporter": "python",
   "pygments_lexer": "ipython3",
   "version": "3.7.5"
  }
 },
 "nbformat": 4,
 "nbformat_minor": 2
}
