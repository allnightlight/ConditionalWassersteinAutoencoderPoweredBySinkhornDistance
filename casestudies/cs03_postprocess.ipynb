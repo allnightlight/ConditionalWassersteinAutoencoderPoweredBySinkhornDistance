{
 "cells": [
  {
   "cell_type": "code",
   "execution_count": null,
   "metadata": {},
   "outputs": [],
   "source": [
    "# To mount\n",
    "from google.colab import drive\n",
    "drive.mount('/content/drive')\n",
    "\n",
    "# # To initialize the work environment\n",
    "# %cd /content/drive/My Drive/\n",
    "# !git clone https://github.com/allnightlight/ConditionalWassersteinAutoencoderPoweredBySinkhornDistance/casestudies -b casestudies\n",
    "\n",
    "# # To update the work environment\n",
    "# %cd /content/drive/My Drive/ConditionalWassersteinAutoencoderPoweredBySinkhornDistance\n",
    "# !git pull\n",
    "\n",
    "%cd /content/drive/My Drive/ConditionalWassersteinAutoencoderPoweredBySinkhornDistance/casestudies"
   ]
  },
  {
   "cell_type": "code",
   "execution_count": null,
   "metadata": {},
   "outputs": [],
   "source": [
    "import os\n",
    "import sys\n",
    "sys.path.append(\"../framework/\")\n",
    "sys.path.append(\"../sl/\")\n",
    "sys.path.append(\"../wae/\")\n",
    "\n",
    "import torch\n",
    "import numpy as np\n",
    "import matplotlib \n",
    "import matplotlib.pylab as plt\n",
    "from mpl_toolkits.mplot3d import Axes3D  \n",
    "import pandas as pd\n",
    "import itertools\n",
    "\n",
    "from conc_environment_factory import ConcEnvironmentFactory\n",
    "from conc_build_parameter import ConcBuildParameter\n",
    "from conc_build_parameter_factory import ConcBuildParameterFactory\n",
    "from conc_agent_factory import ConcAgentFactory\n",
    "from wae_trainer_factory import WaeTrainerFactory\n",
    "\n",
    "from wae_batch_data_agent import WaeBatchDataAgent\n",
    "from wae_batch_data_environment import WaeBatchDataEnvironment\n",
    "\n",
    "from builder import Builder\n",
    "from store import Store\n",
    "from mylogger import MyLogger\n",
    "\n",
    "from loader import Loader"
   ]
  },
  {
   "cell_type": "code",
   "execution_count": null,
   "metadata": {},
   "outputs": [],
   "source": [
    "dbPath = \"training_log.sqlite\""
   ]
  },
  {
   "cell_type": "code",
   "execution_count": null,
   "metadata": {},
   "outputs": [],
   "source": [
    "target_casestudy = \"cs03b\""
   ]
  },
  {
   "cell_type": "code",
   "execution_count": null,
   "metadata": {},
   "outputs": [],
   "source": [
    "def evaluate_err(buildParameter, agent):\n",
    "    environment = environmentFactory.create(buildParameter)\n",
    "    trainer = trainerFactory.create(buildParameter, agent, environment)\n",
    "\n",
    "    dataBatchEnv = environment.getTestData()\n",
    "    dataBatchAg = agent(dataBatchEnv)\n",
    "\n",
    "    _err_observable = torch.mean(torch.abs(dataBatchAg._XHat - dataBatchEnv._X))\n",
    "    _err_latent, _ = trainer.measure_distance(dataBatchAg._Xi, dataBatchAg._XiHat)\n",
    "\n",
    "    err_observable = _err_observable.data.numpy()\n",
    "    err_latent = _err_latent.data.numpy()    \n",
    "    return err_observable, err_latent"
   ]
  },
  {
   "cell_type": "code",
   "execution_count": null,
   "metadata": {},
   "outputs": [],
   "source": [
    "def approximate_observable_image(th, ph, R, r):\n",
    "    xi1 = (R + r * np.cos(th)) * np.cos(ph)\n",
    "    xi2 = (R + r * np.cos(th)) * np.sin(ph)\n",
    "    xi3 = r * np.sin(th)\n",
    "\n",
    "    X1 = np.stack((xi1, xi2, xi3), axis=-1) # (..., 3)\n",
    "    X2 = np.stack((R-xi2, xi3, -xi1), axis=-1) # (..., 3)\n",
    "\n",
    "    return X1, X2 # (..., 3)\n",
    "\n",
    "\n",
    "def approximate_latent_image(th, ph, R, r):\n",
    "    xi1 = (R + r * np.cos(th)) * np.cos(ph)\n",
    "    xi2 = (R + r * np.cos(th)) * np.sin(ph)\n",
    "    xi3 = r * np.sin(th)\n",
    "    \n",
    "    Xi = np.stack((xi1, xi2, xi3), axis=-1) # (..., nXi = 3)\n",
    "    \n",
    "    Xi1 = Xi.copy()\n",
    "    Xi1[...,2] += R/2\n",
    "    Xi2 = Xi.copy()\n",
    "    Xi2[...,2] -= R/2\n",
    "    \n",
    "    return Xi1, Xi2 # (..., 3)"
   ]
  },
  {
   "cell_type": "code",
   "execution_count": null,
   "metadata": {},
   "outputs": [],
   "source": [
    "def plot_encoder_projection_image(agent, environment, azim):\n",
    "\n",
    "    nPh = 2**6\n",
    "    nTh = 2**6\n",
    "    ph = np.linspace(0, 1, nPh) * np.pi * 2\n",
    "    th = np.linspace(0, 1, nTh) * np.pi * 2\n",
    "    Ph, Th = np.meshgrid(ph, th) # (nTh, nPh)\n",
    "    XYZs = approximate_observable_image(Ph, Th, environment.R, environment.r) # (nTh, nPh, 3)\n",
    "    Xis = approximate_latent_image(Ph, Th, environment.R, environment.r) # (nTh, nPh, 3)\n",
    "\n",
    "    _XYZs = [\n",
    "        torch.from_numpy(XYZ.astype(np.float32).reshape(-1,3)) # (nTh * nPh, 3)\n",
    "        for XYZ in XYZs]\n",
    "\n",
    "    _Zs = [ torch.zeros(nTh * nPh, environment.nZ) # (*, nZ = 2) \n",
    "           for k1 in range(2)]\n",
    "\n",
    "    XiHats = [None, None]\n",
    "    for k1 in range(2):\n",
    "        dataBatchEnv = WaeBatchDataEnvironment(_XYZs[k1], _Zs[k1])\n",
    "        dataBatchAgent = agent(dataBatchEnv)\n",
    "        XiHats[k1] = dataBatchAgent._XiHat.data.numpy().reshape(nTh, nPh, -1) # (nTheta, nR, 3)\n",
    "\n",
    "    colors = [\"red\", \"blue\"]\n",
    "    fig = plt.gcf()\n",
    "    #\n",
    "    ax = fig.add_subplot(1,2,1, projection = \"3d\")\n",
    "    for k1, XYZ in enumerate(XYZs):        \n",
    "        #     ax.plot_surface(XYZ[...,0], XYZ[...,1], XYZ[...,2], color = colors[k1], linewidth = 0, antialiased=True)\n",
    "        ax.plot_wireframe(XYZ[...,0], XYZ[...,1], XYZ[...,2], color = colors[k1], linewidth = .5, alpha=.5, antialiased=True)\n",
    "    ax.set_title('Input image \\non the observable variables space')\n",
    "    ax.axis('off')\n",
    "    ax.view_init(30, azim)\n",
    "    #\n",
    "    ax.set_xlim(-1.10,1.10)\n",
    "    ax.set_ylim(-1.10,1.10)\n",
    "    ax.set_zlim(-1.10,1.10)\n",
    "    #\n",
    "    ax = fig.add_subplot(1,2,2, projection = \"3d\")\n",
    "    for k1, (Xi, XiHat) in enumerate(zip(Xis, XiHats)): \n",
    "        ax.plot_wireframe(Xi[...,0], Xi[...,1], Xi[...,2], color='lightgrey', linewidth=.5, alpha = .5, antialiased=True)\n",
    "        #     ax.plot_surface(XiHat[...,0], XiHat[...,1], XiHat[...,2], color=colors[k1], linewidth = 0, antialiased=True)\n",
    "        ax.plot_wireframe(XiHat[...,0], XiHat[...,1], XiHat[...,2], color=colors[k1], linewidth = .5, antialiased=True)\n",
    "    ax.set_title('Ouput image \\non the latent variables space')\n",
    "    ax.axis('off')\n",
    "    ax.view_init(30, azim)\n",
    "    #\n",
    "    ax.set_xlim(-1.10,1.10)\n",
    "    ax.set_ylim(-1.10,1.10)\n",
    "    ax.set_zlim(-1.10,1.10)\n",
    "    fig.tight_layout()"
   ]
  },
  {
   "cell_type": "code",
   "execution_count": null,
   "metadata": {},
   "outputs": [],
   "source": [
    "def plot_decoder_projection_image(agent, environment, azim):\n",
    "\n",
    "    nPh = 2**6\n",
    "    nTh = 2**6\n",
    "    ph = np.linspace(0, 1, nPh) * np.pi * 2\n",
    "    th = np.linspace(0, 1, nTh) * np.pi * 2\n",
    "    Ph, Th = np.meshgrid(ph, th) # (nTh, nPh)\n",
    "    XYZs = approximate_observable_image(Ph, Th, environment.R, environment.r) # (nTh, nPh, 3)\n",
    "    Xis = approximate_latent_image(Ph, Th, environment.R, environment.r) # (nTh, nPh, 3)\n",
    "\n",
    "    XYZHats = [None, None]\n",
    "    for k1 in range(2):\n",
    "        _Xi = torch.from_numpy(Xis[k1].astype(np.float32).reshape(nTh*nPh, 3)) # (nTh * nPh, 3)\n",
    "        _XYZHat = agent.dec(_Xi) # (nTh * nPh, 3)\n",
    "        XYZHats[k1] = _XYZHat.data.numpy().reshape(nTh, nPh, 3) # (nTh, nPh, 3)\n",
    "\n",
    "    colors = [\"red\", \"blue\"]\n",
    "    fig = plt.gcf()\n",
    "    #\n",
    "    ax = fig.add_subplot(1,2,1, projection = \"3d\")\n",
    "    for k1, Xi in enumerate(Xis):        \n",
    "        ax.plot_wireframe(Xi[...,0], Xi[...,1], Xi[...,2], color=colors[k1], linewidth=.5, alpha = .5, antialiased=True)\n",
    "\n",
    "    ax.set_title('Input image \\non the latent variables space')\n",
    "    ax.axis('off')\n",
    "    ax.view_init(30, azim)\n",
    "    #\n",
    "    ax.set_xlim(-1.10,1.10)\n",
    "    ax.set_ylim(-1.10,1.10)\n",
    "    ax.set_zlim(-1.10,1.10)\n",
    "    #\n",
    "    ax = fig.add_subplot(1,2,2, projection = \"3d\")\n",
    "    for k1, (XYZ, XYZHat) in enumerate(zip(XYZs, XYZHats)): \n",
    "        ax.plot_wireframe(XYZ[...,0], XYZ[...,1], XYZ[...,2], color = 'lightgray', linewidth = .5, alpha=.5, antialiased=True)\n",
    "        ax.plot_wireframe(XYZHat[...,0], XYZHat[...,1], XYZHat[...,2], color=colors[k1], linewidth = .5, antialiased=True)\n",
    "    ax.set_title('Ouput image \\non the observable variables space')\n",
    "    ax.axis('off')\n",
    "    ax.view_init(30, azim)\n",
    "    #\n",
    "    ax.set_xlim(-1.10,1.10)\n",
    "    ax.set_ylim(-1.10,1.10)\n",
    "    ax.set_zlim(-1.10,1.10)\n",
    "    fig.tight_layout()"
   ]
  },
  {
   "cell_type": "markdown",
   "metadata": {},
   "source": [
    "## S400: Load trained agents to analyze them"
   ]
  },
  {
   "cell_type": "markdown",
   "metadata": {},
   "source": [
    "### SS410: initialize a loader of trained agents"
   ]
  },
  {
   "cell_type": "code",
   "execution_count": null,
   "metadata": {},
   "outputs": [],
   "source": [
    "agentFactory = ConcAgentFactory()\n",
    "environmentFactory = ConcEnvironmentFactory()\n",
    "trainerFactory =  WaeTrainerFactory()\n",
    "\n",
    "store = Store(dbPath)\n",
    "\n",
    "buildParameterFactory = ConcBuildParameterFactory()\n",
    "loader = Loader(agentFactory=agentFactory\n",
    "                , environmentFactory=environmentFactory\n",
    "                , buildParameterFactory=buildParameterFactory\n",
    "                , store = store)"
   ]
  },
  {
   "cell_type": "markdown",
   "metadata": {},
   "source": [
    "### SS420: evaluate trained agents:\n",
    "\n",
    "evaluation error is here:\n",
    "* the representitive errors of observable variables\n",
    "* and the discrepancy between latent referenced distribution and the one projected by trained encoder"
   ]
  },
  {
   "cell_type": "code",
   "execution_count": null,
   "metadata": {},
   "outputs": [],
   "source": [
    "tbl = {\n",
    "    \"criteria\": []\n",
    "    , \"score\": []\n",
    "    , \"epoch\": []\n",
    "      }\n",
    "for agent, buildParameter, epoch in loader.load(target_casestudy + \"%\"):\n",
    "    representative_error, latent_distribution_discrepancy = evaluate_err(buildParameter, agent)\n",
    "    \n",
    "    for score, criteria in [\n",
    "        (representative_error, \"Representative Error\")\n",
    "        , (latent_distribution_discrepancy, \"Latent Distributions Discrepancy\")]:\n",
    "\n",
    "        for key in buildParameter.__dict__:\n",
    "            if not key in tbl:\n",
    "                tbl[key] = []\n",
    "            tbl[key].append(buildParameter.__dict__[key])\n",
    "    \n",
    "        tbl[\"epoch\"].append(epoch)\n",
    "        tbl[\"criteria\"].append(criteria)\n",
    "        tbl[\"score\"].append(score)\n",
    "\n",
    "tbl = pd.DataFrame(tbl)\n",
    "tbl.to_csv(target_casestudy +  \"_score.csv\")"
   ]
  },
  {
   "cell_type": "markdown",
   "metadata": {},
   "source": [
    "### SS430: Print encoder's images"
   ]
  },
  {
   "cell_type": "code",
   "execution_count": null,
   "metadata": {},
   "outputs": [],
   "source": [
    "for agent, buildParameter, epoch in loader.load(target_casestudy + \"%\", buildParameterKey=None):\n",
    "    \n",
    "    if epoch == buildParameter.nEpoch:\n",
    "        for azim in np.arange(0, 360, 30):\n",
    "            environment = environmentFactory.create(buildParameter)\n",
    "            fig = plt.figure(figsize=[12, 6])\n",
    "            plot_encoder_projection_image(agent, environment, azim)\n",
    "            fig.savefig(\"./img/%s_encoder_projection_%s_azim=%03d.png\" % (target_casestudy, buildParameter.key, azim))\n",
    "            plt.close(fig)\n",
    "        break"
   ]
  },
  {
   "cell_type": "markdown",
   "metadata": {},
   "source": [
    "### SS440: Print decoder's images"
   ]
  },
  {
   "cell_type": "code",
   "execution_count": null,
   "metadata": {},
   "outputs": [],
   "source": [
    "for agent, buildParameter, epoch in loader.load(target_casestudy + \"%\", buildParameterKey=None):\n",
    "    \n",
    "    if epoch == buildParameter.nEpoch:\n",
    "        for azim in np.arange(0, 360, 30):\n",
    "            environment = environmentFactory.create(buildParameter)\n",
    "            fig = plt.figure(figsize=[12, 6])\n",
    "            plot_decoder_projection_image(agent, environment, azim)\n",
    "            fig.savefig(\"./img/%s_decoder_projection_%s_azim=%03d.png\" % (target_casestudy, buildParameter.key, azim))\n",
    "            plt.close(fig)\n",
    "        break"
   ]
  }
 ],
 "metadata": {
  "kernelspec": {
   "display_name": "Python 3",
   "language": "python",
   "name": "python3"
  },
  "language_info": {
   "codemirror_mode": {
    "name": "ipython",
    "version": 3
   },
   "file_extension": ".py",
   "mimetype": "text/x-python",
   "name": "python",
   "nbconvert_exporter": "python",
   "pygments_lexer": "ipython3",
   "version": "3.7.5"
  }
 },
 "nbformat": 4,
 "nbformat_minor": 2
}
