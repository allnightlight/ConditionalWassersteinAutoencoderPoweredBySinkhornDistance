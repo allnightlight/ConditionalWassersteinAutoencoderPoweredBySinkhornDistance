{
 "cells": [
  {
   "cell_type": "code",
   "execution_count": null,
   "metadata": {},
   "outputs": [],
   "source": [
    "import os\n",
    "import sys\n",
    "sys.path.append(\"../framework/\")\n",
    "sys.path.append(\"../sl/\")\n",
    "sys.path.append(\"../wae/\")\n",
    "\n",
    "import numpy as np\n",
    "import matplotlib.pylab as plt\n",
    "\n",
    "from conc_environment_factory import ConcEnvironmentFactory\n",
    "from conc_build_parameter import ConcBuildParameter\n",
    "from conc_build_parameter_factory import ConcBuildParameterFactory\n",
    "from conc_agent_factory import ConcAgentFactory\n",
    "from wae_trainer_factory import WaeTrainerFactory\n",
    "\n",
    "\n",
    "from builder import Builder\n",
    "from store import Store\n",
    "from mylogger import MyLogger\n",
    "\n",
    "from loader import Loader"
   ]
  },
  {
   "cell_type": "code",
   "execution_count": null,
   "metadata": {},
   "outputs": [],
   "source": [
    "dbPath = \"training_log.sqlite\""
   ]
  },
  {
   "cell_type": "markdown",
   "metadata": {},
   "source": [
    "## S300: Run learning agents"
   ]
  },
  {
   "cell_type": "markdown",
   "metadata": {},
   "source": [
    "### SS320: initialize an instance of builder"
   ]
  },
  {
   "cell_type": "code",
   "execution_count": null,
   "metadata": {},
   "outputs": [],
   "source": [
    "agentFactory = ConcAgentFactory()\n",
    "environmentFactory = ConcEnvironmentFactory()\n",
    "trainerFactory = WaeTrainerFactory()\n",
    "\n",
    "logger = MyLogger(console_print=True)\n",
    "store = Store(dbPath)\n",
    "\n",
    "builder = Builder(agentFactory=agentFactory\n",
    "                  , environmentFactory=environmentFactory\n",
    "                  , trainerFactory=trainerFactory\n",
    "                  , store=store\n",
    "                  , logger = logger)"
   ]
  },
  {
   "cell_type": "markdown",
   "metadata": {},
   "source": [
    "### SS330: run build"
   ]
  },
  {
   "cell_type": "code",
   "execution_count": null,
   "metadata": {},
   "outputs": [],
   "source": [
    "label = \"cs01a\"\n",
    "cnt = 1\n",
    "\n",
    "while True:\n",
    "    nH = int(np.random.choice((2**3, 2**4, 2**5,)))\n",
    "    reg_param = float(np.random.choice((0.1, 1.0, 10.0)))\n",
    "\n",
    "    # define instances of Conc. Build Params\n",
    "    buildParameter = ConcBuildParameter(nEpoch=2**1\n",
    "                                        , reg_param=reg_param\n",
    "                                        , nH = nH\n",
    "                                        , label = \"%s %03d\" % (label, cnt))\n",
    "    # run build\n",
    "    builder.build(buildParameter)\n",
    "    cnt += 1"
   ]
  }
 ],
 "metadata": {
  "kernelspec": {
   "display_name": "Python 3",
   "language": "python",
   "name": "python3"
  },
  "language_info": {
   "codemirror_mode": {
    "name": "ipython",
    "version": 3
   },
   "file_extension": ".py",
   "mimetype": "text/x-python",
   "name": "python",
   "nbconvert_exporter": "python",
   "pygments_lexer": "ipython3",
   "version": "3.7.5"
  }
 },
 "nbformat": 4,
 "nbformat_minor": 2
}
