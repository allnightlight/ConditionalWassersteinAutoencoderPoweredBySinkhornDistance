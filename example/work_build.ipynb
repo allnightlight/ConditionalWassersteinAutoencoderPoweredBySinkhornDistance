{
 "cells": [
  {
   "cell_type": "code",
   "execution_count": null,
   "metadata": {},
   "outputs": [],
   "source": [
    "import os\n",
    "import sys\n",
    "sys.path.append(\"../framework/\")\n",
    "sys.path.append(\"../sl/\")\n",
    "sys.path.append(\"../wae/\")\n",
    "\n",
    "import numpy as np\n",
    "import matplotlib.pylab as plt\n",
    "\n",
    "from conc_environment import ConcEnvironment\n",
    "from conc_environment_factory import ConcEnvironmentFactory\n",
    "from conc_build_parameter import ConcBuildParameter\n",
    "from conc_build_parameter_factory import ConcBuildParameterFactory\n",
    "\n",
    "from builder import Builder\n",
    "from store import Store\n",
    "from wae_agent_factory import WaeAgentFactory\n",
    "from wae_trainer_factory import WaeTrainerFactory\n",
    "from mylogger import MyLogger\n",
    "\n",
    "from loader import Loader"
   ]
  },
  {
   "cell_type": "code",
   "execution_count": null,
   "metadata": {},
   "outputs": [],
   "source": [
    "storeDbPath = \"training_history.sqlite\"\n",
    "if os.path.exists(storeDbPath):\n",
    "    os.remove(storeDbPath)"
   ]
  },
  {
   "cell_type": "markdown",
   "metadata": {},
   "source": [
    "## S300: Run learning agents"
   ]
  },
  {
   "cell_type": "markdown",
   "metadata": {},
   "source": [
    "### SS310: define instances of Conc. Build Params"
   ]
  },
  {
   "cell_type": "code",
   "execution_count": null,
   "metadata": {},
   "outputs": [],
   "source": [
    "args = dict(\n",
    "    dbFilePath = \"testDb.sqlite\"\n",
    "    ,ev_tag = \"EV0001\"\n",
    "    ,pv_tags = (\"PV0001\", \"PV0002\", )\n",
    "    ,period_train_str = (\"2020/06/13 00:00\", \"2020/06/15 00:00\", )\n",
    "    ,period_test_str= (\"2020/06/15 00:00\", \"2020/06/16 00:00\", )\n",
    "    ,samplingIntervalMinute = 5\n",
    "    ,nBatch = 2**5\n",
    "    ,nLayer = 2)\n",
    "\n",
    "buildParameter = ConcBuildParameter(nEpoch=2**7, reg_param=1.0, label = \"test case #1\", **args)"
   ]
  },
  {
   "cell_type": "markdown",
   "metadata": {},
   "source": [
    "### SS320: initialize an instance of builder"
   ]
  },
  {
   "cell_type": "code",
   "execution_count": null,
   "metadata": {},
   "outputs": [],
   "source": [
    "agentFactory = WaeAgentFactory()\n",
    "environmentFactory = ConcEnvironmentFactory()\n",
    "trainerFactory = WaeTrainerFactory()\n",
    "\n",
    "logger = MyLogger(console_print=True)\n",
    "store = Store(storeDbPath)\n",
    "\n",
    "builder = Builder(agentFactory=agentFactory\n",
    "                  , environmentFactory=environmentFactory\n",
    "                  , trainerFactory=trainerFactory\n",
    "                  , store=store\n",
    "                  , logger = logger)"
   ]
  },
  {
   "cell_type": "markdown",
   "metadata": {},
   "source": [
    "### SS330: run build"
   ]
  },
  {
   "cell_type": "code",
   "execution_count": null,
   "metadata": {},
   "outputs": [],
   "source": [
    "builder.build(buildParameter)"
   ]
  },
  {
   "cell_type": "markdown",
   "metadata": {},
   "source": [
    "## S400: Load trained agents to analyze them"
   ]
  },
  {
   "cell_type": "markdown",
   "metadata": {},
   "source": [
    "### SS410: choose a trained agent"
   ]
  },
  {
   "cell_type": "code",
   "execution_count": null,
   "metadata": {},
   "outputs": [],
   "source": [
    "buildParameterFactory = ConcBuildParameterFactory()\n",
    "loader = Loader(agentFactory=agentFactory\n",
    "                , environmentFactory=environmentFactory\n",
    "                , buildParameterFactory=buildParameterFactory\n",
    "                , store = store)"
   ]
  },
  {
   "cell_type": "code",
   "execution_count": null,
   "metadata": {},
   "outputs": [],
   "source": [
    "agent, buildParameter, epoch = [*loader.load(\"test case #1%\")][-1]\n",
    "print(\"build parameter label = \", buildParameter.label)\n",
    "print(\"epoch = %d\" % epoch)"
   ]
  },
  {
   "cell_type": "markdown",
   "metadata": {},
   "source": [
    "### SS420: check the distribution of the latent and obverseved variables, respectively."
   ]
  },
  {
   "cell_type": "code",
   "execution_count": null,
   "metadata": {},
   "outputs": [],
   "source": [
    "environment = environmentFactory.create(buildParameter)"
   ]
  },
  {
   "cell_type": "code",
   "execution_count": null,
   "metadata": {},
   "outputs": [],
   "source": [
    "fig1 = plt.figure()\n",
    "fig2 = plt.figure()\n",
    "\n",
    "ax1 = fig1.add_subplot()\n",
    "ax2 = fig2.add_subplot()\n",
    "\n",
    "ax1.set_title(\"Observed varible distribution\")\n",
    "ax2.set_title(\"Latent varible distribution\")\n",
    "\n",
    "for dataBatchEnv in environment.generateBatchDataIterator():\n",
    "    dataBatchAg = agent(dataBatchEnv)\n",
    "\n",
    "    XHat = dataBatchAg._XHat.data.numpy() # (*, nX)\n",
    "    XiHat = dataBatchAg._XiHat.data.numpy() # (*, nXi)\n",
    "    Xi = dataBatchAg._Xi.data.numpy() # (*, nXi)\n",
    "\n",
    "    X = dataBatchEnv._X.data.numpy() # (*, nX)\n",
    "    Z = dataBatchEnv._Z.data.numpy() # (*, nZ)\n",
    "\n",
    "    markertype = {0: \"o\", 1: \"^\"}\n",
    "    for k1 in range(environment.nZ):\n",
    "        idx = Z[:,k1] == 1\n",
    "        ax1.plot(X[idx,0], X[idx,1], 'b', markerfacecolor = \"None\", marker=markertype[k1], linestyle=\"\")\n",
    "        ax1.plot(XHat[idx,0], XHat[idx,1], 'r', markerfacecolor = \"None\", marker=markertype[k1], linestyle=\"\")\n",
    "        \n",
    "        ax2.plot(Xi[idx,0], Xi[idx,1], 'b', markerfacecolor = \"None\", marker=markertype[k1], linestyle=\"\")\n",
    "        ax2.plot(XiHat[idx,0], XiHat[idx,1], 'r', markerfacecolor = \"None\", marker=markertype[k1], linestyle=\"\")"
   ]
  }
 ],
 "metadata": {
  "kernelspec": {
   "display_name": "Python 3",
   "language": "python",
   "name": "python3"
  },
  "language_info": {
   "codemirror_mode": {
    "name": "ipython",
    "version": 3
   },
   "file_extension": ".py",
   "mimetype": "text/x-python",
   "name": "python",
   "nbconvert_exporter": "python",
   "pygments_lexer": "ipython3",
   "version": "3.7.5"
  }
 },
 "nbformat": 4,
 "nbformat_minor": 2
}
