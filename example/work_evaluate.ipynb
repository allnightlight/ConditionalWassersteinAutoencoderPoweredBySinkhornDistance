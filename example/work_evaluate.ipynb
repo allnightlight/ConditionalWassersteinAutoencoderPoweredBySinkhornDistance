{
 "cells": [
  {
   "cell_type": "code",
   "execution_count": null,
   "metadata": {},
   "outputs": [],
   "source": [
    "import os\n",
    "import sys\n",
    "sys.path.append(\"../framework/\")\n",
    "sys.path.append(\"../sl/\")\n",
    "sys.path.append(\"../wae/\")\n",
    "\n",
    "import torch\n",
    "import numpy as np\n",
    "import matplotlib.pylab as plt\n",
    "import pandas as pd\n",
    "\n",
    "from conc_environment import ConcEnvironment\n",
    "from conc_environment_factory import ConcEnvironmentFactory\n",
    "from conc_build_parameter import ConcBuildParameter\n",
    "from conc_build_parameter_factory import ConcBuildParameterFactory\n",
    "\n",
    "from builder import Builder\n",
    "from store import Store\n",
    "from wae_agent_factory import WaeAgentFactory\n",
    "from wae_trainer_factory import WaeTrainerFactory\n",
    "from mylogger import MyLogger\n",
    "\n",
    "from loader import Loader"
   ]
  },
  {
   "cell_type": "code",
   "execution_count": null,
   "metadata": {},
   "outputs": [],
   "source": [
    "# storeDbPath = \"training_history.sqlite\"\n",
    "# if os.path.exists(storeDbPath):\n",
    "#     os.remove(storeDbPath)"
   ]
  },
  {
   "cell_type": "markdown",
   "metadata": {},
   "source": [
    "## S400: Load trained agents to analyze them"
   ]
  },
  {
   "cell_type": "code",
   "execution_count": null,
   "metadata": {},
   "outputs": [],
   "source": [
    "def count_error(agent, environment, threshold = None):\n",
    "\n",
    "    cnts = {}\n",
    "    for segment, dataEnv in [\n",
    "            (\"Train\", environment.getDataTrain())\n",
    "            , (\"Test\", environment.getDataTest())\n",
    "        ]:\n",
    "\n",
    "        dataAgent = agent(dataEnv)\n",
    "\n",
    "        XiHat = dataAgent._XiHat.data.numpy()\n",
    "\n",
    "        if threshold is None:\n",
    "            threshold = agent.cluster_interval/2\n",
    "\n",
    "        Z = dataEnv._Z.data.numpy() # (*, nZ)\n",
    "\n",
    "        Zhat = np.zeros((XiHat.shape[0], environment.nZ)) # (*, nZ)\n",
    "        Zhat[XiHat[:,0] < threshold,0] = 1\n",
    "        Zhat[XiHat[:,0] >= threshold,1] = 1\n",
    "\n",
    "        cnt = []\n",
    "        for k1 in range(environment.nZ):\n",
    "            row = (np.sum(Zhat[Z[:,k1] == 1,k1] == 1)\n",
    "                   , np.sum(Zhat[Z[:,k1] == 1,k1] == 0))\n",
    "            cnt.append(row)\n",
    "            \n",
    "        # cnt[0] = (\n",
    "        #     numbers of Z[0] = 1 and Zhat[0] = 1\n",
    "        #     ,numbers of Z[0] = 1 and Zhat[0] = 0)\n",
    "        #  ...\n",
    "        # cnt[i] = (\n",
    "        #     numbers of Z[i] = 1 and Zhat[i] = 1\n",
    "        #     ,numbers of Z[i] = 1 and Zhat[i] = 0)\n",
    "        # i in 0:nZ\n",
    "\n",
    "        cnts[segment] = cnt\n",
    "\n",
    "    return cnts"
   ]
  },
  {
   "cell_type": "code",
   "execution_count": null,
   "metadata": {},
   "outputs": [],
   "source": [
    "def show_distribution(agent, environment, fig = None):\n",
    "    if fig is None:\n",
    "        fig = plt.gcf()\n",
    "\n",
    "    axes = [fig.add_subplot(environment.nZ, 2, i+1) for i in range(environment.nZ*2)]        \n",
    "        \n",
    "    for k1, (segment, dataEnv) in enumerate([\n",
    "            (\"Train\", environment.getDataTrain())\n",
    "            , (\"Test\", environment.getDataTest())\n",
    "        ]):\n",
    "\n",
    "        dataAgent = agent(dataEnv)\n",
    "\n",
    "        XiHat = dataAgent._XiHat.data.numpy()\n",
    "\n",
    "        Z = dataEnv._Z.data.numpy() # (*, nZ)\n",
    "\n",
    "        for i in range(environment.nZ):\n",
    "            XiGivenZ = XiHat[Z[:,i] == 1,:]\n",
    "\n",
    "            theta = np.linspace(0,1,2**5)*np.pi*2\n",
    "            x = np.cos(theta) * 2\n",
    "            y = np.sin(theta) * 2    \n",
    "\n",
    "            color = {0: \"r\", 1: \"b\"}\n",
    "            marker = {\"Train\": \"o\", \"Test\": \"^\"}\n",
    "            axes[2*i+k1].plot(XiGivenZ[:,0], XiGivenZ[:,1], '.', color = color[i])\n",
    "            for j in range(environment.nZ):\n",
    "                axes[2*i+k1].plot(x + agent.cluster_interval * j ,y, '--', color=color[j])\n",
    "            axes[2*i+k1].grid()\n",
    "            axes[2*i+k1].set_xlim((-2,2+agent.cluster_interval*(environment.nZ-1)))\n",
    "            axes[2*i+k1].set_ylim((-2,2))\n",
    "            if k1 == 0:\n",
    "                axes[2*i+k1].set_ylabel('Z = %d' % (i,))\n",
    "    plt.tight_layout()"
   ]
  },
  {
   "cell_type": "markdown",
   "metadata": {},
   "source": [
    "### SS410: define iterators of agents to be evaluated:"
   ]
  },
  {
   "cell_type": "code",
   "execution_count": null,
   "metadata": {},
   "outputs": [],
   "source": [
    "storeDbPath = \"training_history.sqlite\"\n",
    "\n",
    "agentFactory = WaeAgentFactory()\n",
    "environmentFactory = ConcEnvironmentFactory()\n",
    "trainerFactory =  WaeTrainerFactory()\n",
    "store = Store(storeDbPath)\n",
    "\n",
    "buildParameterFactory = ConcBuildParameterFactory()\n",
    "loader = Loader(agentFactory=agentFactory\n",
    "                , environmentFactory=environmentFactory\n",
    "                , buildParameterFactory=buildParameterFactory\n",
    "                , store = store)"
   ]
  },
  {
   "cell_type": "code",
   "execution_count": null,
   "metadata": {},
   "outputs": [],
   "source": [
    "target_casestudy = \"test case #1\""
   ]
  },
  {
   "cell_type": "code",
   "execution_count": null,
   "metadata": {},
   "outputs": [],
   "source": [
    "def genTrainedAgents():\n",
    "    search_label = \"{0}%\".format(target_casestudy)\n",
    "    for agent, buildParameter, epoch in loader.load(search_label):\n",
    "        yield agent, buildParameter, epoch"
   ]
  },
  {
   "cell_type": "markdown",
   "metadata": {},
   "source": [
    "### SS420: check the discrimation error:"
   ]
  },
  {
   "cell_type": "code",
   "execution_count": null,
   "metadata": {},
   "outputs": [],
   "source": [
    "tbl = {\n",
    "    \"epoch\": []\n",
    "    , \"segment\": []\n",
    "    , \"TN\": []\n",
    "    , \"FP\": []\n",
    "    , \"FN\": []\n",
    "    , \"TP\": []\n",
    "    , \"RatioTN\": []\n",
    "    , \"RatioFP\": []\n",
    "    , \"RatioFN\": []\n",
    "    , \"RatioTP\": []\n",
    "    }\n",
    "for agent, buildParameter, epoch in genTrainedAgents():\n",
    "    environment = environmentFactory.create(buildParameter)\n",
    "    \n",
    "    cnts = count_error(agent, environment, threshold=agent.cluster_interval/2)\n",
    "    \n",
    "    for segment in [\"Train\", \"Test\"]:\n",
    "\n",
    "        for key in buildParameter.__dict__:\n",
    "            if not key in tbl:\n",
    "                tbl[key] = []\n",
    "            tbl[key].append(buildParameter.__dict__[key])\n",
    "        \n",
    "        tbl[\"epoch\"].append(epoch)\n",
    "        tbl[\"segment\"].append(segment)\n",
    "        tbl[\"TN\"].append(cnts[segment][0][0]) # z = (1,0) and zhat = (1,0)\n",
    "        tbl[\"FP\"].append(cnts[segment][0][1]) # z = (1,0) and zhat = (0,1)\n",
    "        tbl[\"FN\"].append(cnts[segment][1][1]) # z = (0,1) and zhat = (1,0)\n",
    "        tbl[\"TP\"].append(cnts[segment][1][0]) # z = (0,1) and zhat = (0,1)\n",
    "        tbl[\"RatioTN\"].append(cnts[segment][0][0]/(cnts[segment][0][0] + cnts[segment][0][1])) # TN/(TN + FP)\n",
    "        tbl[\"RatioFP\"].append(cnts[segment][0][1]/(cnts[segment][0][0] + cnts[segment][0][1])) # FP/(TN + FP)\n",
    "        tbl[\"RatioFN\"].append(cnts[segment][1][1]/(cnts[segment][1][0] + cnts[segment][1][1])) # FN/(FN + TP)\n",
    "        tbl[\"RatioTP\"].append(cnts[segment][1][0]/(cnts[segment][1][0] + cnts[segment][1][1])) # TP/(FN + TP)\n",
    "\n",
    "tbl = pd.DataFrame(tbl)\n",
    "tbl.to_csv(target_casestudy +  \"_score.csv\")"
   ]
  },
  {
   "cell_type": "markdown",
   "metadata": {},
   "source": [
    "### SS430: show the distribution on latent space:"
   ]
  },
  {
   "cell_type": "code",
   "execution_count": null,
   "metadata": {},
   "outputs": [],
   "source": [
    "for agent, buildParameter, epoch in genTrainedAgents():\n",
    "    fig = plt.figure(figsize = [24/2.57, 14/2.57])\n",
    "    environment = environmentFactory.create(buildParameter)\n",
    "    show_distribution(agent, environment, fig)\n",
    "    break"
   ]
  }
 ],
 "metadata": {
  "kernelspec": {
   "display_name": "Python 3",
   "language": "python",
   "name": "python3"
  },
  "language_info": {
   "codemirror_mode": {
    "name": "ipython",
    "version": 3
   },
   "file_extension": ".py",
   "mimetype": "text/x-python",
   "name": "python",
   "nbconvert_exporter": "python",
   "pygments_lexer": "ipython3",
   "version": "3.7.5"
  }
 },
 "nbformat": 4,
 "nbformat_minor": 2
}
